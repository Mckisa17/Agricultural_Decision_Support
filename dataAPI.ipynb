{
 "cells": [
  {
   "cell_type": "code",
   "execution_count": 1,
   "metadata": {},
   "outputs": [],
   "source": [
    "#%pip install geopy\n",
    "#%pip install geojson\n",
    "#%pip install geopandas\n",
    "#%pip install folium"
   ]
  },
  {
   "cell_type": "code",
   "execution_count": 2,
   "metadata": {},
   "outputs": [],
   "source": [
    "import requests\n",
    "import pandas as pd \n",
    "from geopy.geocoders import Bing\n",
    "import re\n",
    "import geojson\n",
    "import geopandas as gpd\n",
    "import folium\n",
    "import matplotlib.pyplot as plt\n",
    "import calendar"
   ]
  },
  {
   "cell_type": "code",
   "execution_count": 3,
   "metadata": {},
   "outputs": [],
   "source": [
    "headers = {\"token\": 'cIqJOziMwStvUaByVOLBPeexHfHGwwuR'}\n",
    "\n",
    "START_DATE = '2022-07-01'\n",
    "END_DATE = '2022-10-31'\n",
    "\n",
    "#station call\n",
    "stations_url = f'https://www.ncdc.noaa.gov/cdo-web/api/v2/stations?datasetid=GHCND&datatypeid=TMIN&locationid=FIPS:27&startdate={START_DATE}&enddate={END_DATE}&limit=5'\n",
    "stations_response = requests.get(stations_url, headers=headers)\n",
    "stations_data = stations_response.json().get('results', [])\n",
    "\n",
    "#weather call\n",
    "all_weather_data = []\n",
    "for station in stations_data:\n",
    "    station_id = station['id']      \n",
    "    weather_url = f'https://www.ncdc.noaa.gov/cdo-web/api/v2/data?datasetid=GHCND&stationid={station_id}&datacategoryid=PRCP&units=metric&datacategoryid=TEMP&datatypeid=TMAX&datatypeid=TMIN&datatypeid=PRCP&startdate={START_DATE}&enddate={END_DATE}&limit=1000'\n",
    "    weather_response = requests.get(weather_url, headers=headers)\n",
    "    weather_data = weather_response.json().get('results', [])\n",
    "    all_weather_data.extend(weather_data)\n",
    "\n",
    "#put data from json into tabular format\n",
    "df_weather = pd.DataFrame(all_weather_data)\n",
    "df_stations = pd.DataFrame(stations_data)\n"
   ]
  },
  {
   "cell_type": "code",
   "execution_count": 4,
   "metadata": {},
   "outputs": [
    {
     "name": "stdout",
     "output_type": "stream",
     "text": [
      "<class 'pandas.core.frame.DataFrame'>\n",
      "RangeIndex: 1513 entries, 0 to 1512\n",
      "Data columns (total 5 columns):\n",
      " #   Column      Non-Null Count  Dtype  \n",
      "---  ------      --------------  -----  \n",
      " 0   date        1513 non-null   object \n",
      " 1   datatype    1513 non-null   object \n",
      " 2   station     1513 non-null   object \n",
      " 3   attributes  1513 non-null   object \n",
      " 4   value       1513 non-null   float64\n",
      "dtypes: float64(1), object(4)\n",
      "memory usage: 59.2+ KB\n"
     ]
    }
   ],
   "source": [
    "df_weather.info()"
   ]
  },
  {
   "cell_type": "code",
   "execution_count": 5,
   "metadata": {},
   "outputs": [
    {
     "name": "stdout",
     "output_type": "stream",
     "text": [
      "<class 'pandas.core.frame.DataFrame'>\n",
      "RangeIndex: 5 entries, 0 to 4\n",
      "Data columns (total 9 columns):\n",
      " #   Column         Non-Null Count  Dtype  \n",
      "---  ------         --------------  -----  \n",
      " 0   elevation      5 non-null      float64\n",
      " 1   mindate        5 non-null      object \n",
      " 2   maxdate        5 non-null      object \n",
      " 3   latitude       5 non-null      float64\n",
      " 4   name           5 non-null      object \n",
      " 5   datacoverage   5 non-null      float64\n",
      " 6   id             5 non-null      object \n",
      " 7   elevationUnit  5 non-null      object \n",
      " 8   longitude      5 non-null      float64\n",
      "dtypes: float64(4), object(5)\n",
      "memory usage: 488.0+ bytes\n"
     ]
    }
   ],
   "source": [
    "df_stations.info()"
   ]
  },
  {
   "cell_type": "code",
   "execution_count": 6,
   "metadata": {},
   "outputs": [],
   "source": [
    "#function to get season from Date\n",
    "def get_season(date):\n",
    "    date = pd.to_datetime(date)\n",
    "    m = date.month\n",
    "    d = date.day\n",
    "    if (m > 3 or (m == 3 and d >= 20)) and (m < 6 or (m == 6 and d < 21)):\n",
    "        return 'Spring'\n",
    "    if (m > 6 or (m == 6 and d >= 21)) and (m < 9 or (m == 9 and d < 22)):\n",
    "        return 'Summer'\n",
    "    if (m > 9 or (m == 9 and d >= 22)) and (m < 12 or (m == 12 and d < 21)):\n",
    "        return 'Autumn'\n",
    "    else:\n",
    "        return 'Winter'\n",
    "        \n",
    "#merge data frames together to then split apart date column into specified columns for target fields\n",
    "merged_df = df_weather.merge(df_stations, left_on='station', right_on='id', how='left')\n",
    "merged_df['year'] = pd.to_datetime(merged_df['date']).dt.year\n",
    "merged_df['month'] = pd.to_datetime(merged_df['date']).dt.month\n",
    "merged_df['day'] = pd.to_datetime(merged_df['date']).dt.day\n",
    "merged_df['date'] = pd.to_datetime(merged_df['date']).dt.strftime('%Y-%m-%d')\n",
    "merged_df['season'] = merged_df['date'].apply(get_season)\n",
    "TimeDimension = merged_df[['date', 'year', 'month', 'day', 'season']].drop_duplicates().reset_index(drop=True)\n",
    "\n",
    "#Make the weather table. Covert tempuratures from Celcius and move decimal.\n",
    "WeatherFact = merged_df.pivot_table(index=['date', 'station'], columns='datatype', values='value', aggfunc='first').reset_index()\n",
    "WeatherFact['TMAX'] = (WeatherFact['TMAX'] *9/5) + 32\n",
    "WeatherFact['TMIN'] = (WeatherFact['TMIN'] * 9/5) + 32\n",
    "column_mapping = {\n",
    "    'TMAX': 'Temp_MaxF',\n",
    "    'TMIN': 'Temp_MinF',\n",
    "    'PRCP': 'Precip_Ich'}\n",
    "WeatherFact.rename(columns=column_mapping, inplace=True)\n",
    "\n",
    "LocationDimension = merged_df[['station', 'name', 'latitude', 'longitude', 'elevation']].drop_duplicates().reset_index(drop=True)\n",
    "LocationDimension.columns = ['station_id', 'station_name', 'latitude', 'longitude', 'elevation']"
   ]
  },
  {
   "cell_type": "code",
   "execution_count": 7,
   "metadata": {},
   "outputs": [
    {
     "data": {
      "text/html": [
       "<div>\n",
       "<style scoped>\n",
       "    .dataframe tbody tr th:only-of-type {\n",
       "        vertical-align: middle;\n",
       "    }\n",
       "\n",
       "    .dataframe tbody tr th {\n",
       "        vertical-align: top;\n",
       "    }\n",
       "\n",
       "    .dataframe thead th {\n",
       "        text-align: right;\n",
       "    }\n",
       "</style>\n",
       "<table border=\"1\" class=\"dataframe\">\n",
       "  <thead>\n",
       "    <tr style=\"text-align: right;\">\n",
       "      <th></th>\n",
       "      <th>station_id</th>\n",
       "      <th>station_name</th>\n",
       "      <th>latitude</th>\n",
       "      <th>longitude</th>\n",
       "      <th>elevation</th>\n",
       "      <th>Zipcode</th>\n",
       "      <th>State</th>\n",
       "      <th>County</th>\n",
       "    </tr>\n",
       "  </thead>\n",
       "  <tbody>\n",
       "    <tr>\n",
       "      <th>0</th>\n",
       "      <td>GHCND:CA006020559</td>\n",
       "      <td>BARWICK, MN US</td>\n",
       "      <td>48.6333</td>\n",
       "      <td>-93.9667</td>\n",
       "      <td>335.0</td>\n",
       "      <td>56623</td>\n",
       "      <td>MN</td>\n",
       "      <td>Koochiching</td>\n",
       "    </tr>\n",
       "    <tr>\n",
       "      <th>1</th>\n",
       "      <td>GHCND:USC00210018</td>\n",
       "      <td>ADA, MN US</td>\n",
       "      <td>47.2991</td>\n",
       "      <td>-96.5161</td>\n",
       "      <td>276.5</td>\n",
       "      <td>56510</td>\n",
       "      <td>MN</td>\n",
       "      <td>Norman</td>\n",
       "    </tr>\n",
       "    <tr>\n",
       "      <th>2</th>\n",
       "      <td>GHCND:USC00210050</td>\n",
       "      <td>AGASSIZ REFUGE, MN US</td>\n",
       "      <td>48.3005</td>\n",
       "      <td>-95.9816</td>\n",
       "      <td>348.1</td>\n",
       "      <td>22996</td>\n",
       "      <td>MN</td>\n",
       "      <td>Marshall</td>\n",
       "    </tr>\n",
       "    <tr>\n",
       "      <th>3</th>\n",
       "      <td>GHCND:USC00210059</td>\n",
       "      <td>AITKIN 2 E, MN US</td>\n",
       "      <td>46.5257</td>\n",
       "      <td>-93.6674</td>\n",
       "      <td>370.3</td>\n",
       "      <td>39113</td>\n",
       "      <td>MN</td>\n",
       "      <td>Atkin</td>\n",
       "    </tr>\n",
       "    <tr>\n",
       "      <th>4</th>\n",
       "      <td>GHCND:USC00210075</td>\n",
       "      <td>ALBERT LEA 3 SE, MN US</td>\n",
       "      <td>43.6064</td>\n",
       "      <td>-93.3019</td>\n",
       "      <td>374.9</td>\n",
       "      <td>56007</td>\n",
       "      <td>MN</td>\n",
       "      <td>Freeborn</td>\n",
       "    </tr>\n",
       "  </tbody>\n",
       "</table>\n",
       "</div>"
      ],
      "text/plain": [
       "          station_id            station_name  latitude  longitude  elevation  \\\n",
       "0  GHCND:CA006020559          BARWICK, MN US   48.6333   -93.9667      335.0   \n",
       "1  GHCND:USC00210018              ADA, MN US   47.2991   -96.5161      276.5   \n",
       "2  GHCND:USC00210050   AGASSIZ REFUGE, MN US   48.3005   -95.9816      348.1   \n",
       "3  GHCND:USC00210059       AITKIN 2 E, MN US   46.5257   -93.6674      370.3   \n",
       "4  GHCND:USC00210075  ALBERT LEA 3 SE, MN US   43.6064   -93.3019      374.9   \n",
       "\n",
       "  Zipcode State       County  \n",
       "0   56623    MN  Koochiching  \n",
       "1   56510    MN       Norman  \n",
       "2   22996    MN     Marshall  \n",
       "3   39113    MN        Atkin  \n",
       "4   56007    MN     Freeborn  "
      ]
     },
     "execution_count": 7,
     "metadata": {},
     "output_type": "execute_result"
    }
   ],
   "source": [
    "#function for reverse geocoding\n",
    "def reverse_geocode_bing(lat, lng, api_key):\n",
    "    geolocator = Bing(api_key=api_key)\n",
    "    location = geolocator.reverse((lat, lng), exactly_one=True)\n",
    "    if location:\n",
    "        return location.address\n",
    "    else:\n",
    "        return None\n",
    "\n",
    "#function to extract state        \n",
    "def extract_state(address):\n",
    "    match = re.search(r', ([A-Z]{2}) ', address) \n",
    "    return match.group(1) if match else None\n",
    "\n",
    "#function to extract zipcode\n",
    "def extract_zipcode(address):\n",
    "    match = re.search(r'\\b\\d{5}\\b', address) \n",
    "    return match.group(0) if match else None\n",
    "\n",
    "# API call and extracting zipcode and state from address returned\n",
    "bing_api_key = 'Amq1ydlY_c9Vdg8cGvgmvxlkqO1Oo3Nk-XeXgHB8FTv1DF_GJcae_vWvH0x1BpAp'\n",
    "LocationDimension['Address'] = LocationDimension.apply(lambda row: reverse_geocode_bing(row['latitude'], row['longitude'], bing_api_key), axis=1)\n",
    "LocationDimension['Zipcode'] = LocationDimension['Address'].apply(extract_zipcode)\n",
    "LocationDimension['State'] = LocationDimension['Address'].apply(extract_state)\n",
    "LocationDimension = LocationDimension.drop(columns=['Address'])\n",
    "\n",
    "#Added in county to zipcode map\n",
    "zip_to_county = {\n",
    "    '56623': 'Koochiching',\n",
    "    '56510': 'Norman',\n",
    "    '22996': 'Marshall',\n",
    "    '39113': 'Atkin',\n",
    "    '56007': 'Freeborn'\n",
    "}\n",
    "LocationDimension['County'] = LocationDimension['Zipcode'].map(zip_to_county)\n",
    "LocationDimension.head()\n"
   ]
  },
  {
   "cell_type": "code",
   "execution_count": 8,
   "metadata": {},
   "outputs": [
    {
     "data": {
      "text/html": [
       "<div>\n",
       "<style scoped>\n",
       "    .dataframe tbody tr th:only-of-type {\n",
       "        vertical-align: middle;\n",
       "    }\n",
       "\n",
       "    .dataframe tbody tr th {\n",
       "        vertical-align: top;\n",
       "    }\n",
       "\n",
       "    .dataframe thead th {\n",
       "        text-align: right;\n",
       "    }\n",
       "</style>\n",
       "<table border=\"1\" class=\"dataframe\">\n",
       "  <thead>\n",
       "    <tr style=\"text-align: right;\">\n",
       "      <th></th>\n",
       "      <th>date</th>\n",
       "      <th>year</th>\n",
       "      <th>month</th>\n",
       "      <th>day</th>\n",
       "      <th>season</th>\n",
       "    </tr>\n",
       "  </thead>\n",
       "  <tbody>\n",
       "    <tr>\n",
       "      <th>0</th>\n",
       "      <td>2022-07-01</td>\n",
       "      <td>2022</td>\n",
       "      <td>7</td>\n",
       "      <td>1</td>\n",
       "      <td>Summer</td>\n",
       "    </tr>\n",
       "    <tr>\n",
       "      <th>1</th>\n",
       "      <td>2022-07-02</td>\n",
       "      <td>2022</td>\n",
       "      <td>7</td>\n",
       "      <td>2</td>\n",
       "      <td>Summer</td>\n",
       "    </tr>\n",
       "    <tr>\n",
       "      <th>2</th>\n",
       "      <td>2022-07-03</td>\n",
       "      <td>2022</td>\n",
       "      <td>7</td>\n",
       "      <td>3</td>\n",
       "      <td>Summer</td>\n",
       "    </tr>\n",
       "    <tr>\n",
       "      <th>3</th>\n",
       "      <td>2022-07-04</td>\n",
       "      <td>2022</td>\n",
       "      <td>7</td>\n",
       "      <td>4</td>\n",
       "      <td>Summer</td>\n",
       "    </tr>\n",
       "    <tr>\n",
       "      <th>4</th>\n",
       "      <td>2022-07-05</td>\n",
       "      <td>2022</td>\n",
       "      <td>7</td>\n",
       "      <td>5</td>\n",
       "      <td>Summer</td>\n",
       "    </tr>\n",
       "  </tbody>\n",
       "</table>\n",
       "</div>"
      ],
      "text/plain": [
       "         date  year  month  day  season\n",
       "0  2022-07-01  2022      7    1  Summer\n",
       "1  2022-07-02  2022      7    2  Summer\n",
       "2  2022-07-03  2022      7    3  Summer\n",
       "3  2022-07-04  2022      7    4  Summer\n",
       "4  2022-07-05  2022      7    5  Summer"
      ]
     },
     "execution_count": 8,
     "metadata": {},
     "output_type": "execute_result"
    }
   ],
   "source": [
    "TimeDimension.head()"
   ]
  },
  {
   "cell_type": "code",
   "execution_count": 9,
   "metadata": {},
   "outputs": [
    {
     "data": {
      "text/html": [
       "<div>\n",
       "<style scoped>\n",
       "    .dataframe tbody tr th:only-of-type {\n",
       "        vertical-align: middle;\n",
       "    }\n",
       "\n",
       "    .dataframe tbody tr th {\n",
       "        vertical-align: top;\n",
       "    }\n",
       "\n",
       "    .dataframe thead th {\n",
       "        text-align: right;\n",
       "    }\n",
       "</style>\n",
       "<table border=\"1\" class=\"dataframe\">\n",
       "  <thead>\n",
       "    <tr style=\"text-align: right;\">\n",
       "      <th>datatype</th>\n",
       "      <th>date</th>\n",
       "      <th>station</th>\n",
       "      <th>Precip_Ich</th>\n",
       "      <th>Temp_MaxF</th>\n",
       "      <th>Temp_MinF</th>\n",
       "    </tr>\n",
       "  </thead>\n",
       "  <tbody>\n",
       "    <tr>\n",
       "      <th>0</th>\n",
       "      <td>2022-07-01</td>\n",
       "      <td>GHCND:CA006020559</td>\n",
       "      <td>0.0</td>\n",
       "      <td>71.60</td>\n",
       "      <td>45.50</td>\n",
       "    </tr>\n",
       "    <tr>\n",
       "      <th>1</th>\n",
       "      <td>2022-07-01</td>\n",
       "      <td>GHCND:USC00210018</td>\n",
       "      <td>0.0</td>\n",
       "      <td>82.94</td>\n",
       "      <td>53.96</td>\n",
       "    </tr>\n",
       "    <tr>\n",
       "      <th>2</th>\n",
       "      <td>2022-07-01</td>\n",
       "      <td>GHCND:USC00210050</td>\n",
       "      <td>0.8</td>\n",
       "      <td>73.04</td>\n",
       "      <td>53.06</td>\n",
       "    </tr>\n",
       "    <tr>\n",
       "      <th>3</th>\n",
       "      <td>2022-07-01</td>\n",
       "      <td>GHCND:USC00210059</td>\n",
       "      <td>0.0</td>\n",
       "      <td>78.08</td>\n",
       "      <td>53.06</td>\n",
       "    </tr>\n",
       "    <tr>\n",
       "      <th>4</th>\n",
       "      <td>2022-07-01</td>\n",
       "      <td>GHCND:USC00210075</td>\n",
       "      <td>1.0</td>\n",
       "      <td>84.02</td>\n",
       "      <td>64.94</td>\n",
       "    </tr>\n",
       "  </tbody>\n",
       "</table>\n",
       "</div>"
      ],
      "text/plain": [
       "datatype        date            station  Precip_Ich  Temp_MaxF  Temp_MinF\n",
       "0         2022-07-01  GHCND:CA006020559         0.0      71.60      45.50\n",
       "1         2022-07-01  GHCND:USC00210018         0.0      82.94      53.96\n",
       "2         2022-07-01  GHCND:USC00210050         0.8      73.04      53.06\n",
       "3         2022-07-01  GHCND:USC00210059         0.0      78.08      53.06\n",
       "4         2022-07-01  GHCND:USC00210075         1.0      84.02      64.94"
      ]
     },
     "execution_count": 9,
     "metadata": {},
     "output_type": "execute_result"
    }
   ],
   "source": [
    "WeatherFact.head()"
   ]
  },
  {
   "cell_type": "code",
   "execution_count": 10,
   "metadata": {},
   "outputs": [],
   "source": [
    "#save down csv for data warehouse loading\n",
    "LocationDimension.to_csv('LocationDimension.csv', index=False)\n",
    "WeatherFact.to_csv('WeatherFact.csv', index=False)\n",
    "TimeDimension.to_csv('TimeDimension.csv', index=False)"
   ]
  },
  {
   "cell_type": "code",
   "execution_count": 11,
   "metadata": {},
   "outputs": [],
   "source": [
    "#fuction to create geojson based on latitude and longitude \n",
    "def df_to_geojson(df):\n",
    "    features = []\n",
    "    for _, row in df.iterrows():\n",
    "        feature = {\n",
    "            \"type\": \"Feature\",\n",
    "            \"properties\": {\n",
    "                \"stationID\": row[\"station_id\"]\n",
    "            },\n",
    "            \"geometry\": {\n",
    "                \"type\": \"Point\",\n",
    "                \"coordinates\": [row[\"longitude\"], row[\"latitude\"]]\n",
    "            }\n",
    "        }\n",
    "        features.append(feature)\n",
    "        \n",
    "    return {\n",
    "        \"type\": \"FeatureCollection\",\n",
    "        \"features\": features}\n",
    "\n",
    "geojson_obj = df_to_geojson(LocationDimension)\n",
    "with open(\"stations.geojson\", \"w\") as file:\n",
    "    geojson.dump(geojson_obj, file)"
   ]
  },
  {
   "cell_type": "code",
   "execution_count": 12,
   "metadata": {},
   "outputs": [],
   "source": [
    "geodf = gpd.read_file('stations.geojson')\n",
    "\n",
    "#make html from the geojson file\n",
    "map = folium.Map(location=[geodf['geometry'].iloc[0].y, geodf['geometry'].iloc[0].x], zoom_start=6)\n",
    "for idex, row in geodf.iterrows():\n",
    "    folium.Marker(location=[row['geometry'].y, row['geometry'].x],\n",
    "                  popup=row['stationID']).add_to(map)\n",
    "\n",
    "map.save(\"map.html\")"
   ]
  },
  {
   "cell_type": "code",
   "execution_count": 13,
   "metadata": {},
   "outputs": [
    {
     "data": {
      "image/png": "[encoded data removed]",
      "text/plain": [
       "<Figure size 432x288 with 1 Axes>"
      ]
     },
     "metadata": {
      "needs_background": "light"
     },
     "output_type": "display_data"
    }
   ],
   "source": [
    "#Create total average by station crosstab and visualization\n",
    "WeatherFact['TAVG'] = (WeatherFact['Temp_MaxF'] + WeatherFact['Temp_MinF']) / 2\n",
    "\n",
    "df_merged = WeatherFact.merge(TimeDimension, left_on='date', right_on='date')\n",
    "df_merged = df_merged.merge(LocationDimension, left_on='station', right_on='station_id')\n",
    "\n",
    "ct = pd.crosstab(df_merged['month'], df_merged['station_name'], values=df_merged['TAVG'], aggfunc='mean')\n",
    "\n",
    "month_names = [calendar.month_name[i] for i in ct.index]\n",
    "ct.plot(kind='line', marker='o')\n",
    "plt.title(\"Monthly Average Temperatures by Station\")\n",
    "plt.ylabel(\"Average Temperature\")\n",
    "plt.xlabel(\"Month\")\n",
    "plt.xticks(ticks=ct.index, labels=month_names)\n",
    "plt.legend(title='Station')\n",
    "plt.tight_layout()\n",
    "plt.savefig(\"MATBS.png\", transparent=True)\n",
    "plt.show()\n"
   ]
  },
  {
   "cell_type": "code",
   "execution_count": 14,
   "metadata": {},
   "outputs": [
    {
     "data": {
      "image/png": "[encoded data removed]",
      "text/plain": [
       "<Figure size 432x288 with 1 Axes>"
      ]
     },
     "metadata": {
      "needs_background": "light"
     },
     "output_type": "display_data"
    }
   ],
   "source": [
    "#create crosstab for Seasonal Percipitation by station and visual\n",
    "df_merged = WeatherFact.merge(TimeDimension, left_on='date', right_on='date')\n",
    "df_merged = df_merged.merge(LocationDimension, left_on='station', right_on='station_id')\n",
    "\n",
    "ct = pd.crosstab(df_merged['season'], df_merged['station_name'], values=df_merged['Precip_Ich'], aggfunc='sum')\n",
    "\n",
    "ct.plot(kind='bar', stacked=True)\n",
    "plt.title(\"Seasonal Total Precipitation by Station\")\n",
    "plt.ylabel(\"Total Precipitation\")\n",
    "plt.xlabel(\"Season\")\n",
    "plt.legend(title='Station', bbox_to_anchor=(1., 1), loc='upper left')\n",
    "plt.tight_layout()\n",
    "plt.savefig(\"STPBS.png\", transparent=True)\n",
    "plt.show()\n"
   ]
  },
  {
   "cell_type": "code",
   "execution_count": 15,
   "metadata": {},
   "outputs": [
    {
     "data": {
      "image/png": "[encoded data removed]",
      "text/plain": [
       "<Figure size 864x432 with 1 Axes>"
      ]
     },
     "metadata": {
      "needs_background": "light"
     },
     "output_type": "display_data"
    }
   ],
   "source": [
    "#Create Average monthly precipitation by County\n",
    "df_merged = WeatherFact.merge(TimeDimension, left_on='date', right_on='date')\n",
    "df_merged = df_merged.merge(LocationDimension, left_on='station', right_on='station_id')\n",
    "\n",
    "avg_precip = df_merged.groupby(['month', 'County']).agg({'Precip_Ich': 'mean'}).reset_index()\n",
    "\n",
    "pivot_avg_precip = avg_precip.pivot(index='month', columns='County', values='Precip_Ich')\n",
    "\n",
    "pivot_avg_precip.index = pd.to_datetime(pivot_avg_precip.index, format='%m').month_name()\n",
    "\n",
    "pivot_avg_precip.plot(kind='bar', figsize=(12, 6))\n",
    "plt.title(\"Average Monthly Precipitation by County\")\n",
    "plt.ylabel(\"Average Precipitation\")\n",
    "plt.xlabel(\"Month\")\n",
    "plt.legend(title='County', bbox_to_anchor=(1, 1), loc='upper left')\n",
    "plt.tight_layout()\n",
    "plt.savefig(\"AMPBC.png\")\n",
    "plt.show()\n"
   ]
  },
  {
   "cell_type": "code",
   "execution_count": null,
   "metadata": {},
   "outputs": [],
   "source": []
  }
 ],
 "metadata": {
  "kernelspec": {
   "display_name": "base",
   "language": "python",
   "name": "python3"
  },
  "language_info": {
   "codemirror_mode": {
    "name": "ipython",
    "version": 3
   },
   "file_extension": ".py",
   "mimetype": "text/x-python",
   "name": "python",
   "nbconvert_exporter": "python",
   "pygments_lexer": "ipython3",
   "version": "3.9.12"
  },
  "orig_nbformat": 4
 },
 "nbformat": 4,
 "nbformat_minor": 2
}
